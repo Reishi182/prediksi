{
 "cells": [
  {
   "cell_type": "code",
   "execution_count": 5,
   "id": "58744947",
   "metadata": {},
   "outputs": [],
   "source": [
    "gender_map = {\"F\": 0, \"M\": 1}\n",
    "bp_map = {\"HIGH\": 0, \"LOW\": 1, \"NORMAL\": 2}\n",
    "cholestol_map = {\"HIGH\": 0, \"NORMAL\": 1}\n",
    "drug_map = {0: \"DrugY\", 3: \"drugC\", 4: \"drugX\", 1: \"drugA\", 2: \"drugB\"}\n",
    "\n",
    "def predict_drug(Age, \n",
    "                 Sex, \n",
    "                 BP, \n",
    "                 Cholesterol, \n",
    "                 Na_to_K):\n",
    "\n",
    "    # 1. Read the machine learning model from its pickled state ...\n",
    "    pickle_file = open('model.pkl', 'rb')     \n",
    "    model = pickle.load(pickle_file)\n",
    "    \n",
    "    # 2. Transform the \"raw\" parameters passed into the function to the encoded numerical values using the maps dictionaries\n",
    "    Sex = gender_map[Sex]\n",
    "    BP = bp_map[BP]\n",
    "    Cholesterol = cholestol_map[Cholesterol]\n",
    "\n",
    "    # 3. Make an individual prediction for this set of data\n",
    "    y_predict = model.predict([[Age, Sex, BP, Cholesterol, Na_to_K]])[0]\n",
    "\n",
    "    # 4. Return the \"raw\" version of the prediction i.e. the actual name of the drug rather than the numerical encoded version\n",
    "    return drug_map[y_predict] "
   ]
  },
  {
   "cell_type": "code",
   "execution_count": 7,
   "id": "1f0570a4",
   "metadata": {},
   "outputs": [
    {
     "name": "stderr",
     "output_type": "stream",
     "text": [
      "C:\\Users\\garyt\\AppData\\Local\\Packages\\PythonSoftwareFoundation.Python.3.10_qbz5n2kfra8p0\\LocalCache\\local-packages\\Python310\\site-packages\\sklearn\\base.py:450: UserWarning: X does not have valid feature names, but DecisionTreeClassifier was fitted with feature names\n",
      "  warnings.warn(\n"
     ]
    },
    {
     "data": {
      "text/plain": [
       "'drugC'"
      ]
     },
     "execution_count": 7,
     "metadata": {},
     "output_type": "execute_result"
    }
   ],
   "source": [
    "predict_drug(47, \"F\", \"LOW\",  \"HIGH\", 14)"
   ]
  },
  {
   "cell_type": "code",
   "execution_count": null,
   "id": "8df6109e",
   "metadata": {},
   "outputs": [],
   "source": []
  }
 ],
 "metadata": {
  "kernelspec": {
   "display_name": "Python 3 (ipykernel)",
   "language": "python",
   "name": "python3"
  },
  "language_info": {
   "codemirror_mode": {
    "name": "ipython",
    "version": 3
   },
   "file_extension": ".py",
   "mimetype": "text/x-python",
   "name": "python",
   "nbconvert_exporter": "python",
   "pygments_lexer": "ipython3",
   "version": "3.10.5"
  }
 },
 "nbformat": 4,
 "nbformat_minor": 5
}
